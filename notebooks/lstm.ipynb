{
 "cells": [
  {
   "cell_type": "code",
   "execution_count": 1,
   "metadata": {},
   "outputs": [],
   "source": [
    "import random\n",
    "\n",
    "import torch\n",
    "import torch.nn as nn\n",
    "import matplotlib.pyplot as plt"
   ]
  },
  {
   "cell_type": "code",
   "execution_count": 2,
   "metadata": {},
   "outputs": [],
   "source": [
    "data = torch.cat([torch.sin((torch.arange(0, 50, 0.1)+ i*0.1)[None]) for i in range(64)], dim=0).T"
   ]
  },
  {
   "cell_type": "code",
   "execution_count": 3,
   "metadata": {},
   "outputs": [
    {
     "data": {
      "text/plain": [
       "<matplotlib.image.AxesImage at 0x7f3ea3d76cb0>"
      ]
     },
     "execution_count": 3,
     "metadata": {},
     "output_type": "execute_result"
    },
    {
     "data": {
      "image/png": "[encoded data removed]",
      "text/plain": [
       "<Figure size 640x480 with 1 Axes>"
      ]
     },
     "metadata": {},
     "output_type": "display_data"
    }
   ],
   "source": [
    "plt.imshow(data.T)"
   ]
  },
  {
   "cell_type": "code",
   "execution_count": 4,
   "metadata": {},
   "outputs": [],
   "source": [
    "class Sequence(nn.Module):\n",
    "    def __init__(self):\n",
    "        super(Sequence, self).__init__()\n",
    "        self.lstm1 = nn.LSTMCell(64, 51)\n",
    "        self.lstm2 = nn.LSTMCell(51, 51)\n",
    "        self.linear = nn.Linear(51, 64)\n",
    "\n",
    "    def forward(self, input, future = 0):\n",
    "        B, T, D = input.size()\n",
    "\n",
    "        outputs = []\n",
    "        h_t = torch.zeros(B, 51, dtype=torch.float, device=input.device)\n",
    "        c_t = torch.zeros(B, 51, dtype=torch.float, device=input.device)\n",
    "        h_t2 = torch.zeros(B, 51, dtype=torch.float, device=input.device)\n",
    "        c_t2 = torch.zeros(B, 51, dtype=torch.float, device=input.device)\n",
    "\n",
    "        for input_t in input.split(1, dim=1):\n",
    "            input_t = input_t.squeeze(1)\n",
    "\n",
    "            h_t, c_t = self.lstm1(input_t, (h_t, c_t))\n",
    "            h_t2, c_t2 = self.lstm2(h_t, (h_t2, c_t2))\n",
    "            output = self.linear(h_t2)\n",
    "            output = output[:,None,:]\n",
    "\n",
    "            outputs += [output]\n",
    "\n",
    "        for i in range(future):# if we should predict the future\n",
    "            h_t, c_t = self.lstm1(output.squeeze(1), (h_t, c_t))\n",
    "            h_t2, c_t2 = self.lstm2(h_t, (h_t2, c_t2))\n",
    "            output = self.linear(h_t2)\n",
    "\n",
    "            output = output[:,None,:]\n",
    "\n",
    "            outputs += [output]\n",
    "        outputs = torch.cat(outputs, dim=1)\n",
    "        return outputs"
   ]
  },
  {
   "cell_type": "code",
   "execution_count": 5,
   "metadata": {},
   "outputs": [
    {
     "name": "stdout",
     "output_type": "stream",
     "text": [
      "Iteration [100/10000], Loss: 0.063661\n",
      "Iteration [200/10000], Loss: 0.023630\n",
      "Iteration [300/10000], Loss: 0.015773\n",
      "Iteration [400/10000], Loss: 0.011009\n",
      "Iteration [500/10000], Loss: 0.007627\n",
      "Iteration [600/10000], Loss: 0.005410\n",
      "Iteration [700/10000], Loss: 0.003642\n",
      "Iteration [800/10000], Loss: 0.002461\n",
      "Iteration [900/10000], Loss: 0.001667\n",
      "Iteration [1000/10000], Loss: 0.001119\n",
      "Iteration [1100/10000], Loss: 0.000761\n",
      "Iteration [1200/10000], Loss: 0.000520\n",
      "Iteration [1300/10000], Loss: 0.000385\n",
      "Iteration [1400/10000], Loss: 0.000271\n",
      "Iteration [1500/10000], Loss: 0.000213\n",
      "Iteration [1600/10000], Loss: 0.000167\n",
      "Iteration [1700/10000], Loss: 0.000136\n",
      "Iteration [1800/10000], Loss: 0.000111\n",
      "Iteration [1900/10000], Loss: 0.000091\n",
      "Iteration [2000/10000], Loss: 0.000078\n",
      "Iteration [2100/10000], Loss: 0.000071\n",
      "Iteration [2200/10000], Loss: 0.000062\n",
      "Iteration [2300/10000], Loss: 0.000056\n",
      "Iteration [2400/10000], Loss: 0.000049\n",
      "Iteration [2500/10000], Loss: 0.000045\n",
      "Iteration [2600/10000], Loss: 0.000041\n",
      "Iteration [2700/10000], Loss: 0.000037\n",
      "Iteration [2800/10000], Loss: 0.000034\n",
      "Iteration [2900/10000], Loss: 0.000031\n",
      "Iteration [3000/10000], Loss: 0.000029\n",
      "Iteration [3100/10000], Loss: 0.000026\n",
      "Iteration [3200/10000], Loss: 0.000024\n",
      "Iteration [3300/10000], Loss: 0.000022\n",
      "Iteration [3400/10000], Loss: 0.000022\n",
      "Iteration [3500/10000], Loss: 0.000020\n",
      "Iteration [3600/10000], Loss: 0.000018\n",
      "Iteration [3700/10000], Loss: 0.000016\n",
      "Iteration [3800/10000], Loss: 0.000015\n",
      "Iteration [3900/10000], Loss: 0.000015\n",
      "Iteration [4000/10000], Loss: 0.000014\n",
      "Iteration [4100/10000], Loss: 0.000013\n",
      "Iteration [4200/10000], Loss: 0.000012\n",
      "Iteration [4300/10000], Loss: 0.000011\n",
      "Iteration [4400/10000], Loss: 0.000010\n",
      "Iteration [4500/10000], Loss: 0.000010\n",
      "Iteration [4600/10000], Loss: 0.000009\n",
      "Iteration [4700/10000], Loss: 0.000008\n",
      "Iteration [4800/10000], Loss: 0.000008\n",
      "Iteration [4900/10000], Loss: 0.000007\n",
      "Iteration [5000/10000], Loss: 0.000007\n",
      "Iteration [5100/10000], Loss: 0.000007\n",
      "Iteration [5200/10000], Loss: 0.000006\n",
      "Iteration [5300/10000], Loss: 0.000006\n",
      "Iteration [5400/10000], Loss: 0.000006\n",
      "Iteration [5500/10000], Loss: 0.000005\n",
      "Iteration [5600/10000], Loss: 0.000005\n",
      "Iteration [5700/10000], Loss: 0.000005\n",
      "Iteration [5800/10000], Loss: 0.000004\n",
      "Iteration [5900/10000], Loss: 0.000004\n",
      "Iteration [6000/10000], Loss: 0.000004\n",
      "Iteration [6100/10000], Loss: 0.000004\n",
      "Iteration [6200/10000], Loss: 0.000004\n",
      "Iteration [6300/10000], Loss: 0.000003\n",
      "Iteration [6400/10000], Loss: 0.000003\n",
      "Iteration [6500/10000], Loss: 0.000003\n",
      "Iteration [6600/10000], Loss: 0.000003\n",
      "Iteration [6700/10000], Loss: 0.000003\n",
      "Iteration [6800/10000], Loss: 0.000002\n",
      "Iteration [6900/10000], Loss: 0.000002\n",
      "Iteration [7000/10000], Loss: 0.000002\n",
      "Iteration [7100/10000], Loss: 0.000002\n",
      "Iteration [7200/10000], Loss: 0.000002\n",
      "Iteration [7300/10000], Loss: 0.000002\n",
      "Iteration [7400/10000], Loss: 0.000002\n",
      "Iteration [7500/10000], Loss: 0.000003\n",
      "Iteration [7600/10000], Loss: 0.000003\n",
      "Iteration [7700/10000], Loss: 0.000001\n",
      "Iteration [7800/10000], Loss: 0.000001\n",
      "Iteration [7900/10000], Loss: 0.000001\n",
      "Iteration [8000/10000], Loss: 0.000001\n",
      "Iteration [8100/10000], Loss: 0.000001\n",
      "Iteration [8200/10000], Loss: 0.000001\n",
      "Iteration [8300/10000], Loss: 0.000001\n",
      "Iteration [8400/10000], Loss: 0.000001\n",
      "Iteration [8500/10000], Loss: 0.000002\n",
      "Iteration [8600/10000], Loss: 0.000001\n",
      "Iteration [8700/10000], Loss: 0.000001\n",
      "Iteration [8800/10000], Loss: 0.000002\n",
      "Iteration [8900/10000], Loss: 0.000002\n",
      "Iteration [9000/10000], Loss: 0.000001\n",
      "Iteration [9100/10000], Loss: 0.000001\n",
      "Iteration [9200/10000], Loss: 0.000001\n",
      "Iteration [9300/10000], Loss: 0.000001\n",
      "Iteration [9400/10000], Loss: 0.000001\n",
      "Iteration [9500/10000], Loss: 0.000001\n",
      "Iteration [9600/10000], Loss: 0.000001\n",
      "Iteration [9700/10000], Loss: 0.000001\n",
      "Iteration [9800/10000], Loss: 0.000001\n",
      "Iteration [9900/10000], Loss: 0.000001\n",
      "Iteration [10000/10000], Loss: 0.000001\n"
     ]
    }
   ],
   "source": [
    "# Create the sequence model and put it on GPU\n",
    "model = Sequence().cuda()\n",
    "\n",
    "# Define loss function and optimizer\n",
    "criterion = nn.MSELoss()\n",
    "optimizer = torch.optim.Adam(model.parameters(), lr=3e-4)\n",
    "\n",
    "# Set the length of the sequences and the number of sequences to sample\n",
    "sequence_length = 20\n",
    "BS = 64\n",
    "\n",
    "# Training loop\n",
    "num_iterations = 10_000\n",
    "for i in range(num_iterations):\n",
    "    # Randomly sample starting indices for the sequences\n",
    "    start_indices = random.sample(range(data.size(0) - (sequence_length + 1)), BS)\n",
    "    # Extract the sequences\n",
    "    sampled_sequences = torch.stack([data[start_idx:start_idx + (sequence_length + 1)] for start_idx in start_indices])\n",
    "\n",
    "    x = sampled_sequences[:,:-1]\n",
    "    y = sampled_sequences[:,1:]\n",
    "\n",
    "    model.train()\n",
    "    optimizer.zero_grad()\n",
    "    \n",
    "    # Forward pass\n",
    "    output = model(x.cuda())\n",
    "    \n",
    "    # Compute loss\n",
    "    loss = criterion(output, y.cuda())\n",
    "    \n",
    "    # Backward pass and optimize\n",
    "    loss.backward()\n",
    "    optimizer.step()\n",
    "    \n",
    "    if (i + 1) % 100 == 0:\n",
    "        print(f'Iteration [{i + 1}/{num_iterations}], Loss: {loss.item():.6f}')"
   ]
  },
  {
   "cell_type": "code",
   "execution_count": 6,
   "metadata": {},
   "outputs": [
    {
     "data": {
      "text/plain": [
       "torch.Size([500, 64])"
      ]
     },
     "execution_count": 6,
     "metadata": {},
     "output_type": "execute_result"
    }
   ],
   "source": [
    "data.shape"
   ]
  },
  {
   "cell_type": "code",
   "execution_count": 7,
   "metadata": {},
   "outputs": [
    {
     "data": {
      "text/plain": [
       "torch.Size([20, 64])"
      ]
     },
     "execution_count": 7,
     "metadata": {},
     "output_type": "execute_result"
    }
   ],
   "source": [
    "new_input = data[-sequence_length:]\n",
    "new_input.shape"
   ]
  },
  {
   "cell_type": "code",
   "execution_count": 8,
   "metadata": {},
   "outputs": [
    {
     "data": {
      "text/plain": [
       "<matplotlib.image.AxesImage at 0x7f3ea05c13f0>"
      ]
     },
     "execution_count": 8,
     "metadata": {},
     "output_type": "execute_result"
    },
    {
     "data": {
      "image/png": "[encoded data removed]",
      "text/plain": [
       "<Figure size 640x480 with 1 Axes>"
      ]
     },
     "metadata": {},
     "output_type": "display_data"
    }
   ],
   "source": [
    "plt.imshow(new_input.T)"
   ]
  },
  {
   "cell_type": "code",
   "execution_count": 13,
   "metadata": {},
   "outputs": [
    {
     "data": {
      "text/plain": [
       "<matplotlib.image.AxesImage at 0x7f3d6b4b3160>"
      ]
     },
     "execution_count": 13,
     "metadata": {},
     "output_type": "execute_result"
    },
    {
     "data": {
      "image/png": "[encoded data removed]",
      "text/plain": [
       "<Figure size 640x480 with 1 Axes>"
      ]
     },
     "metadata": {},
     "output_type": "display_data"
    }
   ],
   "source": [
    "plt.imshow(model(new_input[None].cuda(), future=1000).cpu().detach().numpy().squeeze().T)"
   ]
  }
 ],
 "metadata": {
  "kernelspec": {
   "display_name": "base",
   "language": "python",
   "name": "python3"
  },
  "language_info": {
   "codemirror_mode": {
    "name": "ipython",
    "version": 3
   },
   "file_extension": ".py",
   "mimetype": "text/x-python",
   "name": "python",
   "nbconvert_exporter": "python",
   "pygments_lexer": "ipython3",
   "version": "3.10.14"
  }
 },
 "nbformat": 4,
 "nbformat_minor": 2
}
